{
  "nbformat": 4,
  "nbformat_minor": 0,
  "metadata": {
    "colab": {
      "name": "Q1 - Valid Anagrams.ipynb",
      "provenance": [],
      "authorship_tag": "ABX9TyOY/BESNGnbJrIjEVBnf9fU",
      "include_colab_link": true
    },
    "kernelspec": {
      "name": "python3",
      "display_name": "Python 3"
    },
    "language_info": {
      "name": "python"
    }
  },
  "cells": [
    {
      "cell_type": "markdown",
      "metadata": {
        "id": "view-in-github",
        "colab_type": "text"
      },
      "source": [
        "<a href=\"https://colab.research.google.com/github/hjn14133/Coding-Challenge/blob/main/Q1_Valid_Anagrams.ipynb\" target=\"_parent\"><img src=\"https://colab.research.google.com/assets/colab-badge.svg\" alt=\"Open In Colab\"/></a>"
      ]
    },
    {
      "cell_type": "code",
      "execution_count": 1,
      "metadata": {
        "id": "fUmX0eRcj0mH"
      },
      "outputs": [],
      "source": [
        "# Anagram - same characters with same frequencies\n",
        "# checking two strings, s1, and s2, if they are anagrams\n",
        "\n",
        "s1 = \"danger\"\n",
        "s2 = \"garden\""
      ]
    },
    {
      "cell_type": "code",
      "source": [
        "# Solution 1 - short strings - hash tables - dictionary\n",
        "# freq1 = freq of characters of s1\n",
        "# freq2 = freq of characters of s2\n",
        "# freq1 == freq2 => anagrams\n",
        "\n",
        "def are_anagrams(s1, s2):\n",
        "    if len(s1) != len(s2):\n",
        "        return False\n",
        "    \n",
        "    freq1 = {}\n",
        "    freq2 = {}\n",
        "    for ch in s1:\n",
        "        if ch in freq1:\n",
        "            freq1[ch] += 1\n",
        "        else:\n",
        "            freq1[ch] = 1\n",
        "            \n",
        "    for ch in s2:\n",
        "        if ch in freq2:\n",
        "            freq2[ch] += 1\n",
        "        else:\n",
        "            freq2[ch] = 1\n",
        "    \n",
        "    for key in freq1:\n",
        "        if key not in freq2 or freq1[key] != freq2[key]:\n",
        "            return False\n",
        "        \n",
        "    return True"
      ],
      "metadata": {
        "id": "W9p-4nm_mnSO"
      },
      "execution_count": 2,
      "outputs": []
    },
    {
      "cell_type": "code",
      "source": [
        "are_anagrams(s1, s2)"
      ],
      "metadata": {
        "colab": {
          "base_uri": "https://localhost:8080/"
        },
        "id": "k90r9-ckmo28",
        "outputId": "452e7d7a-be2d-438a-f7b0-f00096537d5e"
      },
      "execution_count": 3,
      "outputs": [
        {
          "output_type": "execute_result",
          "data": {
            "text/plain": [
              "True"
            ]
          },
          "metadata": {},
          "execution_count": 3
        }
      ]
    },
    {
      "cell_type": "code",
      "source": [
        "# Solution 2 - using build-in fuctions - Counter in collections module\n",
        "from collections import Counter\n",
        "\n",
        "def are_anagrams_2(s1, s2):\n",
        "    if len(s1) != len(s2):\n",
        "        return False\n",
        "    return Counter(s1) == Counter(s2)"
      ],
      "metadata": {
        "id": "hI1jg70JmqaX"
      },
      "execution_count": 4,
      "outputs": []
    },
    {
      "cell_type": "code",
      "source": [
        "are_anagrams_2(s1, s2)"
      ],
      "metadata": {
        "colab": {
          "base_uri": "https://localhost:8080/"
        },
        "id": "CsVQ10stmtDy",
        "outputId": "584501b7-2f02-4c57-b245-1690bfe599d4"
      },
      "execution_count": 5,
      "outputs": [
        {
          "output_type": "execute_result",
          "data": {
            "text/plain": [
              "True"
            ]
          },
          "metadata": {},
          "execution_count": 5
        }
      ]
    },
    {
      "cell_type": "code",
      "source": [
        "# Solution 3 - camparing sorted strings\n",
        "\n",
        "def are_anagrams_3(s1, s2):\n",
        "    if len(s1) != len(s2):\n",
        "        return False\n",
        "    return sorted(s1) == sorted(s2) "
      ],
      "metadata": {
        "id": "ggYO5QwqmuXy"
      },
      "execution_count": 6,
      "outputs": []
    },
    {
      "cell_type": "code",
      "source": [
        "are_anagrams_2(s1, s2)"
      ],
      "metadata": {
        "colab": {
          "base_uri": "https://localhost:8080/"
        },
        "id": "OLksHDjdmu9A",
        "outputId": "0819a2dc-f31d-48ce-dd4e-9e37c67b9163"
      },
      "execution_count": 7,
      "outputs": [
        {
          "output_type": "execute_result",
          "data": {
            "text/plain": [
              "True"
            ]
          },
          "metadata": {},
          "execution_count": 7
        }
      ]
    }
  ]
}