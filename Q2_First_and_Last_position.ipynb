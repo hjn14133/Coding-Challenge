{
  "nbformat": 4,
  "nbformat_minor": 0,
  "metadata": {
    "colab": {
      "name": "Q2 - First and Last position",
      "provenance": [],
      "authorship_tag": "ABX9TyPQ+H9Na8ccbvfAYXoa5qZq",
      "include_colab_link": true
    },
    "kernelspec": {
      "name": "python3",
      "display_name": "Python 3"
    },
    "language_info": {
      "name": "python"
    }
  },
  "cells": [
    {
      "cell_type": "markdown",
      "metadata": {
        "id": "view-in-github",
        "colab_type": "text"
      },
      "source": [
        "<a href=\"https://colab.research.google.com/github/hjn14133/Coding-Challenge/blob/main/Q2_First_and_Last_position.ipynb\" target=\"_parent\"><img src=\"https://colab.research.google.com/assets/colab-badge.svg\" alt=\"Open In Colab\"/></a>"
      ]
    },
    {
      "cell_type": "code",
      "execution_count": 3,
      "metadata": {
        "id": "4O__kt-wnfw4"
      },
      "outputs": [],
      "source": [
        "# Given a sorted array of integers arr and an integer target, find the index \n",
        "# of the first and last position of target in arr. If target cannot be found\n",
        "# in arr, return [-1, 1]\n",
        "\n",
        "arr = [2, 4, 5, 5, 5, 5, 5, 7, 9, 9]\n",
        "target = 5\n",
        "\n",
        "#output: [2, 6]"
      ]
    },
    {
      "cell_type": "code",
      "source": [
        "def first_and_last(arr, target):\n",
        "\n",
        "  for i in range(len(arr)):\n",
        "    if arr[i] == target:\n",
        "      start = i\n",
        "      while i+1 < len(arr) and arr[i+1] == target:\n",
        "        i += 1\n",
        "      return [start, i]\n",
        "  #if target not in arr:\n",
        "  return [-1, 1]\n",
        "\n",
        "# T(n) = O(n)\n",
        "# S(n) = O(1) - n variables"
      ],
      "metadata": {
        "id": "epcuFgav0SiY"
      },
      "execution_count": 1,
      "outputs": []
    },
    {
      "cell_type": "code",
      "source": [
        "first_and_last(arr, target)"
      ],
      "metadata": {
        "colab": {
          "base_uri": "https://localhost:8080/"
        },
        "id": "Ffy-2q6v0VEn",
        "outputId": "2aea59a4-d80f-4afe-a98d-8f016b897a0f"
      },
      "execution_count": 5,
      "outputs": [
        {
          "output_type": "execute_result",
          "data": {
            "text/plain": [
              "[2, 6]"
            ]
          },
          "metadata": {},
          "execution_count": 5
        }
      ]
    },
    {
      "cell_type": "code",
      "source": [
        "# Solution 2 - binary search\n",
        "def find_start(arr, target):\n",
        "  if arr[0] == target:\n",
        "    return 0\n",
        "  left, right = 0, len(arr)-1\n",
        "  while left < right:\n",
        "    mid = (left + right) // 2\n",
        "    if arr[mid] == target and arr[mid - 1] < target:\n",
        "      return mid\n",
        "    elif arr[mid] < target:\n",
        "      left = mid + 1\n",
        "    else:\n",
        "      right = mid - 1\n",
        "  return -1\n",
        "\n",
        "def find_end(arr, target):\n",
        "  if arr[-1] == target:\n",
        "    return len(arr)-1\n",
        "  left, right = 0, len(arr)-1\n",
        "  while left <= right:\n",
        "    mid = (left + right) // 2\n",
        "    if arr[mid] == target and arr[mid+1] > target:\n",
        "      return mid\n",
        "    elif arr[mid] > target:\n",
        "      right = mid - 1\n",
        "    else:\n",
        "      left = mid + 1\n",
        "  return 1\n",
        "\n",
        "def first_and_last_2(arr, target):\n",
        "  if len(arr) == 0 or arr[0] > target or arr[-1] < target:\n",
        "    return [-1, 1]\n",
        "  start = find_start(arr, target)\n",
        "  end = find_end(arr, target)\n",
        "  return [start, end]\n",
        "\n",
        "# Time Complexity: T(n) = 2* O(logn) = O(logn)\n",
        "# Space Complexity: S(n) = O(1) - just int variables "
      ],
      "metadata": {
        "id": "BRTG5Bbq0hoU"
      },
      "execution_count": 16,
      "outputs": []
    },
    {
      "cell_type": "code",
      "source": [
        "\n",
        "arr = [2, 4, 5, 5, 5, 5, 5, 5, 5, 5]\n",
        "first_and_last_2(arr, target)\n"
      ],
      "metadata": {
        "colab": {
          "base_uri": "https://localhost:8080/"
        },
        "id": "3wTAy4CL0h_K",
        "outputId": "001a336c-573e-42ff-a27d-b04008859254"
      },
      "execution_count": 17,
      "outputs": [
        {
          "output_type": "execute_result",
          "data": {
            "text/plain": [
              "[2, 9]"
            ]
          },
          "metadata": {},
          "execution_count": 17
        }
      ]
    }
  ]
}